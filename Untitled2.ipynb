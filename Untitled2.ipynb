{
 "cells": [
  {
   "cell_type": "code",
   "execution_count": 32,
   "id": "50c4739a-6a02-4cb5-a377-770fa04e0635",
   "metadata": {},
   "outputs": [],
   "source": [
    "import time\n",
    "import pyautogui\n",
    "\n",
    "pyautogui.hotkey(\"alt\" ,\"tab\")\n",
    "pyautogui.press(\"f5\")\n",
    "pyautogui.press(\"tab\")\n",
    "pyautogui.typewrite(\"Yasmim\" , interval = 0.10)\n",
    "pyautogui.press(\"tab\")\n",
    "time.sleep(0.3)\n",
    "pyautogui.typewrite(\"yyy@gmail.com\" , interval = 0.10)\n",
    "pyautogui.press(\"tab\")\n",
    "time.sleep(0.3)\n",
    "pyautogui.typewrite(\"to cansada\" , interval = 0.10)\n",
    "pyautogui.press(\"tab\")\n",
    "pyautogui.press(\"tab\")\n",
    "time.sleep(0.3)\n",
    "pyautogui.press(\"enter\")\n",
    "\n",
    "pyautogui.hotkey(\"shift\" , \"tab\")\n",
    "pyautogui.hotkey(\"shift\" , \"tab\")\n",
    "pyautogui.hotkey(\"shift\" , \"tab\")\n",
    "pyautogui.hotkey(\"shift\" , \"tab\")\n",
    "\n",
    "\n",
    "pyautogui.typewrite(\"Wagner\" , interval = 0.10)\n",
    "pyautogui.press(\"tab\")\n",
    "time.sleep(0.3)\n",
    "pyautogui.typewrite(\"wagner@gmail.com\" , interval = 0.10)\n",
    "pyautogui.press(\"tab\")\n",
    "time.sleep(0.3)\n",
    "pyautogui.typewrite(\"aula de teste, to morta ja!!!\" , interval = 0.10)\n",
    "pyautogui.press(\"tab\")\n",
    "time.sleep(0.3)\n",
    "pyautogui.press(\"enter\")\n"
   ]
  },
  {
   "cell_type": "code",
   "execution_count": null,
   "id": "9bbc5707-c779-4de5-9d6f-30beb9ac36fd",
   "metadata": {},
   "outputs": [],
   "source": []
  }
 ],
 "metadata": {
  "kernelspec": {
   "display_name": "Python 3 (ipykernel)",
   "language": "python",
   "name": "python3"
  },
  "language_info": {
   "codemirror_mode": {
    "name": "ipython",
    "version": 3
   },
   "file_extension": ".py",
   "mimetype": "text/x-python",
   "name": "python",
   "nbconvert_exporter": "python",
   "pygments_lexer": "ipython3",
   "version": "3.11.7"
  }
 },
 "nbformat": 4,
 "nbformat_minor": 5
}
